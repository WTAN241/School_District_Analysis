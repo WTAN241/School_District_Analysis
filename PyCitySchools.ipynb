{
 "cells": [
  {
   "cell_type": "code",
   "execution_count": 47,
   "metadata": {},
   "outputs": [],
   "source": [
    "# Add the Pandas dependency.\n",
    "import pandas as pd\n",
    "import os\n",
    "\n",
    "# Files to load\n",
    "school_data_to_load = os.path.join(\"Resources\",\"schools_complete.csv\")\n",
    "student_data_to_load = os.path.join(\"Resources\",\"students_complete.csv\")\n",
    "\n",
    "school_data_df=pd.read_csv(school_data_to_load)\n",
    "\n",
    "student_data_df=pd.read_csv(student_data_to_load)\n"
   ]
  },
  {
   "cell_type": "code",
   "execution_count": 48,
   "metadata": {},
   "outputs": [],
   "source": [
    "# Add each prefix and suffix to remove to a list.\n",
    "prefixes_suffixes = [\"Dr. \", \"Mr. \",\"Ms. \", \"Mrs. \", \"Miss \", \" MD\", \" DDS\", \" DVM\", \" PhD\"]"
   ]
  },
  {
   "cell_type": "code",
   "execution_count": 49,
   "metadata": {},
   "outputs": [],
   "source": [
    "# Iterate through the words in the \"prefixes_suffixes\" list and replace them with an empty space, \"\".\n",
    "for word in prefixes_suffixes:\n",
    "    student_data_df[\"student_name\"] = student_data_df[\"student_name\"].str.replace(word,\"\")"
   ]
  },
  {
   "cell_type": "code",
   "execution_count": 50,
   "metadata": {},
   "outputs": [],
   "source": [
    "# Combine the data into a single dataset.\n",
    "school_data_complete_df = pd.merge(student_data_df,school_data_df,on = [\"school_name\",\"school_name\"])"
   ]
  },
  {
   "cell_type": "code",
   "execution_count": 66,
   "metadata": {},
   "outputs": [
    {
     "data": {
      "text/plain": [
       "15"
      ]
     },
     "execution_count": 66,
     "metadata": {},
     "output_type": "execute_result"
    }
   ],
   "source": [
    "# Calculate the total number of schools\n",
    "school_uniques = school_data_complete_df[\"school_name\"].unique()\n",
    "school_count = len(school_uniques)"
   ]
  },
  {
   "cell_type": "code",
   "execution_count": 52,
   "metadata": {},
   "outputs": [],
   "source": [
    "# Calculate the total budget.\n",
    "total_budget = school_data_df[\"budget\"].sum()"
   ]
  },
  {
   "cell_type": "code",
   "execution_count": 53,
   "metadata": {},
   "outputs": [],
   "source": [
    "# Calculate the average math and reading scores.\n",
    "average_math_score = school_data_complete_df[\"math_score\"].mean()\n",
    "average_reading_score = school_data_complete_df[\"reading_score\"].mean()"
   ]
  },
  {
   "cell_type": "code",
   "execution_count": 54,
   "metadata": {},
   "outputs": [],
   "source": [
    "# Determining the passing grade\n",
    "passing_math = school_data_complete_df[\"math_score\"] >= 70\n",
    "passing_reading = school_data_complete_df[\"reading_score\"] >= 70"
   ]
  },
  {
   "cell_type": "code",
   "execution_count": 55,
   "metadata": {},
   "outputs": [],
   "source": [
    "# Get all the students who are passing math in a new DataFrame\n",
    "passing_math = school_data_complete_df[school_data_complete_df[\"math_score\"]>= 70]\n",
    "passing_reading = school_data_complete_df[school_data_complete_df[\"reading_score\"]>= 70]\n",
    "passing_math_count = len(passing_math)\n",
    "passing_reading_count = len(passing_reading)"
   ]
  },
  {
   "cell_type": "code",
   "execution_count": 56,
   "metadata": {},
   "outputs": [],
   "source": [
    "# Get the total number of students\n",
    "student_count = school_data_complete_df[\"student_name\"].count()"
   ]
  },
  {
   "cell_type": "code",
   "execution_count": 57,
   "metadata": {},
   "outputs": [],
   "source": [
    "# Calculate the percent that passed math and reading\n",
    "passing_math_percentage = passing_math_count / float(student_count) * 100\n",
    "passing_reading_percentage = passing_reading_count / float(student_count) * 100"
   ]
  },
  {
   "cell_type": "code",
   "execution_count": 58,
   "metadata": {},
   "outputs": [],
   "source": [
    "# Calculate the students who passed both math and reading.\n",
    "passed_math_reading = school_data_complete_df[(school_data_complete_df[\"math_score\"]>= 70) & (school_data_complete_df[\"reading_score\"]>= 70)]"
   ]
  },
  {
   "cell_type": "code",
   "execution_count": 59,
   "metadata": {},
   "outputs": [],
   "source": [
    "# Calculate the number of students who passed both math and reading.\n",
    "overall_passing_math_reading_count = passed_math_reading[\"student_name\"].count()"
   ]
  },
  {
   "cell_type": "code",
   "execution_count": 61,
   "metadata": {},
   "outputs": [],
   "source": [
    "# Calculate the overall passing percentage.\n",
    "overall_passing_percentage =  (overall_passing_math_reading_count / student_count) * 100"
   ]
  },
  {
   "cell_type": "code",
   "execution_count": 67,
   "metadata": {},
   "outputs": [
    {
     "data": {
      "text/html": [
       "<div>\n",
       "<style scoped>\n",
       "    .dataframe tbody tr th:only-of-type {\n",
       "        vertical-align: middle;\n",
       "    }\n",
       "\n",
       "    .dataframe tbody tr th {\n",
       "        vertical-align: top;\n",
       "    }\n",
       "\n",
       "    .dataframe thead th {\n",
       "        text-align: right;\n",
       "    }\n",
       "</style>\n",
       "<table border=\"1\" class=\"dataframe\">\n",
       "  <thead>\n",
       "    <tr style=\"text-align: right;\">\n",
       "      <th></th>\n",
       "      <th>Total Schools</th>\n",
       "      <th>Total Students</th>\n",
       "      <th>Total Budget</th>\n",
       "      <th>Average Reading Score</th>\n",
       "      <th>Average Math Score</th>\n",
       "      <th>% Passing Reading</th>\n",
       "      <th>% Passing Math</th>\n",
       "      <th>% Overall Passing</th>\n",
       "    </tr>\n",
       "  </thead>\n",
       "  <tbody>\n",
       "    <tr>\n",
       "      <th>0</th>\n",
       "      <td>15</td>\n",
       "      <td>39170</td>\n",
       "      <td>24649428</td>\n",
       "      <td>81.87784</td>\n",
       "      <td>78.985371</td>\n",
       "      <td>85.805463</td>\n",
       "      <td>74.980853</td>\n",
       "      <td>65.172326</td>\n",
       "    </tr>\n",
       "  </tbody>\n",
       "</table>\n",
       "</div>"
      ],
      "text/plain": [
       "   Total Schools  Total Students  Total Budget  Average Reading Score  \\\n",
       "0             15           39170      24649428               81.87784   \n",
       "\n",
       "   Average Math Score  % Passing Reading  % Passing Math  % Overall Passing  \n",
       "0           78.985371          85.805463       74.980853          65.172326  "
      ]
     },
     "execution_count": 67,
     "metadata": {},
     "output_type": "execute_result"
    }
   ],
   "source": [
    "# Adding a list of values with keys to create a new DataFrame.\n",
    "district_summary_df = pd.DataFrame([\n",
    "    {\"Total Schools\": school_count,\n",
    "     \"Total Students\": student_count,\n",
    "     \"Total Budget\": total_budget,\n",
    "     \"Average Reading Score\": average_reading_score,\n",
    "     \"Average Math Score\": average_math_score,\n",
    "     \"% Passing Reading\": passing_reading_percentage,\n",
    "     \"% Passing Math\": passing_math_percentage,\n",
    "     \"% Overall Passing\": overall_passing_percentage\n",
    "    }])\n",
    "district_summary_df"
   ]
  },
  {
   "cell_type": "code",
   "execution_count": null,
   "metadata": {},
   "outputs": [],
   "source": []
  }
 ],
 "metadata": {
  "kernelspec": {
   "display_name": "PythonData",
   "language": "python",
   "name": "pythondata"
  },
  "language_info": {
   "codemirror_mode": {
    "name": "ipython",
    "version": 3
   },
   "file_extension": ".py",
   "mimetype": "text/x-python",
   "name": "python",
   "nbconvert_exporter": "python",
   "pygments_lexer": "ipython3",
   "version": "3.7.9"
  }
 },
 "nbformat": 4,
 "nbformat_minor": 4
}
