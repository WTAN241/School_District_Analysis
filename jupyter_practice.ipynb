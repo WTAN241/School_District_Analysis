{
 "cells": [
  {
   "cell_type": "code",
   "execution_count": null,
   "id": "joint-offer",
   "metadata": {},
   "outputs": [],
   "source": []
  }
 ],
 "metadata": {
  "kernelspec": {
   "display_name": "PythonData",
   "language": "python",
   "name": "pythondata"
  },
  "language_info": {
   "name": ""
  }
 },
 "nbformat": 4,
 "nbformat_minor": 5
}
